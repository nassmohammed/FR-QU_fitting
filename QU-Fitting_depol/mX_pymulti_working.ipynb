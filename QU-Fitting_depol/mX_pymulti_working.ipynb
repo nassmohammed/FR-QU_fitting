{
 "cells": [
  {
   "cell_type": "code",
   "execution_count": 1,
   "metadata": {},
   "outputs": [],
   "source": [
    "import healpy as hp\n",
    "import matplotlib.pyplot as plt\n",
    "import numpy as np\n",
    "import RMtools_1D.do_QUfit_1D_mnest\n",
    "import os\n",
    "import shutil \n",
    "from pygdsm import GlobalSkyModel\n",
    "from astropy.io import fits\n",
    "from astropy.wcs import WCS\n",
    "from astropy.coordinates import SkyCoord\n",
    "from astropy import units\n",
    "from tqdm import tqdm"
   ]
  },
  {
   "cell_type": "code",
   "execution_count": 2,
   "metadata": {},
   "outputs": [],
   "source": [
    "parent_dir = '/srv/nmohamme/notebooks/FRII_git/QU-Fitting_depol/QU_results/' #Where you want the results saved"
   ]
  },
  {
   "cell_type": "markdown",
   "metadata": {},
   "source": [
    "## This notebook interfaces with the RM-Tools QU-Fitting package.\n",
    "\n",
    "Use plot_all_spectra.ipynb to visualize the results"
   ]
  },
  {
   "cell_type": "code",
   "execution_count": 3,
   "metadata": {},
   "outputs": [],
   "source": [
    "fn = '/srv/nmohamme/fanregionII/data/chimeQ_kelvin_tadpolecutout.fits'\n",
    "hdr_chimeq = fits.getheader(fn) \n",
    "chimeQ = fits.getdata(fn)\n",
    "\n",
    "fn = '/srv/nmohamme/fanregionII/data/chimeU_kelvin_tadpolecutout.fits'\n",
    "hdr_chimeu = fits.getheader(fn) \n",
    "chimeU = fits.getdata(fn)\n",
    "wcs_chime = WCS(hdr_chimeu)\n",
    "\n",
    "fn = '/srv/nmohamme/fanregionII/data/chimeI_kelvin_tadpolecutout.fits'\n",
    "hdr_chimei = fits.getheader(fn) \n",
    "chimeI = fits.getdata(fn)\n",
    "\n",
    "chime_freq = wcs_chime.wcs_pix2world(1, 1, np.arange(0, hdr_chimeq['NAXIS3'], 1), 1)[2]"
   ]
  },
  {
   "cell_type": "code",
   "execution_count": 4,
   "metadata": {},
   "outputs": [],
   "source": [
    "chime_freqArr = wcs_chime.wcs_pix2world(1, 1, np.arange(0, hdr_chimeq['NAXIS3'], 1), 1)[2]\n",
    "chime_waveArr2 = (3e8/chime_freqArr)**2\n",
    "dwingeloo_wavelen2 = np.asarray([(3e8/chime_freqArr[825])**2,(3e8/chime_freqArr[679])**2,(3e8/chime_freqArr[297])**2])"
   ]
  },
  {
   "cell_type": "code",
   "execution_count": 5,
   "metadata": {},
   "outputs": [
    {
     "name": "stderr",
     "output_type": "stream",
     "text": [
      "WARNING: FITSFixedWarning: The WCS transformation has more axes (4) than the image it is associated with (3) [astropy.wcs.wcs]\n"
     ]
    }
   ],
   "source": [
    "fn = '/srv/nmohamme/fanregionII/data/gmims_u_frac_dragon_beam.fits'\n",
    "hdr_gmims = fits.getheader(fn)\n",
    "gmimsU = fits.getdata(fn)\n",
    "\n",
    "fn = '/srv/nmohamme/fanregionII/data/gmims_q_frac_dragon_beam.fits'\n",
    "gmimsQ = fits.getdata(fn)\n",
    "\n",
    "wcs_gmims=WCS(hdr_gmims)\n",
    "\n",
    "gmims_freq = wcs_gmims.wcs_pix2world(1, 1, np.arange(0, hdr_gmims['NAXIS3'], 1), 1, 1)[2]\n"
   ]
  },
  {
   "cell_type": "code",
   "execution_count": 6,
   "metadata": {},
   "outputs": [
    {
     "name": "stderr",
     "output_type": "stream",
     "text": [
      "WARNING: FITSFixedWarning: EPOCH = '2000 ' / \n",
      "a floating-point value was expected. [astropy.wcs.wcs]\n"
     ]
    }
   ],
   "source": [
    "#--- Load Dragons data, Dragons wcs, and array of Dragons frequencies\n",
    "# This is a subset of the Dragons frequencies, low frequencies are not good enough to use yet\n",
    "\n",
    "#--- Dragons WCS doesn't have the frequencies set, so we load them in seperate\n",
    "file_path = '/srv/data/dragons/Mar2024_500_1000_MHz_cube/ListOfFrequencies_Hz.txt'\n",
    "drag_freq = np.loadtxt(file_path)\n",
    "\n",
    "#--- Convert Dragons from Jy/beam to Kelvin\n",
    "jansk_to_K_drag = np.load('/srv/data/dva/JypK.npy')\n",
    "unbinned_freq_drag = np.load('/srv/data/dva/abscalfreqs.npy')*1e6\n",
    "indexes = np.searchsorted(unbinned_freq_drag, drag_freq)\n",
    "\n",
    "fn = '/srv/data/dragons/Mar2024_500_1000_MHz_cube/DRAGONS_500_to_1024_q_cube_32bit_gal.fits'\n",
    "hdr_dragq = fits.getheader(fn)\n",
    "dragQ = fits.getdata(fn)\n",
    "wcs_drag = WCS(hdr_dragq)\n",
    "\n",
    "fn = '/srv/data/dragons/Mar2024_500_1000_MHz_cube/DRAGONS_500_to_1024_u_cube_32bit_gal.fits'\n",
    "dragU = fits.getdata(fn)\n"
   ]
  },
  {
   "cell_type": "code",
   "execution_count": 7,
   "metadata": {},
   "outputs": [],
   "source": [
    "# \"anchoring\" datasets\n",
    "\n",
    "fn = '/home/nmohamme/FanRegionII/WMAP_data/wmap_band_iqumap_r9_9yr_K_v5.fits'\n",
    "WMAP_data = fits.getdata(fn, exten_no=1)\n",
    "hdr_WMAP_K = fits.getheader('/home/nmohamme/FanRegionII/WMAP_data/wmap_band_iqumap_r9_9yr_K_v5.fits')\n",
    "\n",
    "\n",
    "fn = '/srv/nmohamme/fanregionII/data/COM_CompMap_QU-synchrotron-commander_2048_R3.00_full.fits'\n",
    "planck_data = fits.getdata(fn,extent_no=1)\n",
    "hdr_planck = fits.getheader(fn)"
   ]
  },
  {
   "cell_type": "code",
   "execution_count": 8,
   "metadata": {},
   "outputs": [],
   "source": [
    "#We use the GlobalSky Model for the Stokes I across both GMIMS and Dragons\n",
    "gsm = GlobalSkyModel(freq_unit='MHz')"
   ]
  },
  {
   "cell_type": "code",
   "execution_count": 9,
   "metadata": {},
   "outputs": [],
   "source": [
    "##--- Currently these functions use the GlobalSkyModel to get the Stokes I across the GMIMS and Dragons data\n",
    "\n",
    "def get_gmims_los(c):\n",
    "    l = c.l.value\n",
    "    b = c.b.value\n",
    "    lpix = int(wcs_gmims.celestial.wcs_world2pix(l, b, 1)[0])\n",
    "    bpix = int(wcs_gmims.celestial.wcs_world2pix(l, b, 1)[1])\n",
    "\n",
    "    gdsm_I = []\n",
    "    for f in tqdm(gmims_freq/1e6):\n",
    "        gsm_temp = gsm.generate(f)\n",
    "        gdsm_I.append(gsm_temp[hp.ang2pix(512, l, b, lonlat=True)])\n",
    "\n",
    "    q = gmimsQ[:, bpix, lpix]/gdsm_I\n",
    "    u = gmimsU[:, bpix, lpix]/gdsm_I\n",
    "\n",
    "    return{'q':q, 'u':u, 'I':gdsm_I, 'lpix':lpix, 'bpix':bpix}\n",
    "\n",
    "def get_chime_los(c):\n",
    "    l = c.l.value\n",
    "    b = c.b.value\n",
    "    lpix = int(wcs_chime.celestial.wcs_world2pix(l, b, 1)[0])\n",
    "    bpix = int(wcs_chime.celestial.wcs_world2pix(l, b, 1)[1])\n",
    "    \n",
    "    gdsm_I = []\n",
    "    for f in tqdm(chime_freq/1e6):\n",
    "        gsm_temp = gsm.generate(f)\n",
    "        gdsm_I.append(gsm_temp[hp.ang2pix(512, l, b, lonlat=True)])\n",
    "    \n",
    "    I = np.asarray(gdsm_I)\n",
    "        \n",
    "    q = chimeQ[:, bpix, lpix]/I\n",
    "    u = chimeU[:, bpix, lpix]/I\n",
    "    \n",
    "    return {'q':q, 'u':u, 'I':I}\n",
    "\n",
    "def get_drag_los(c):\n",
    "    l = c.l.value\n",
    "    b = c.b.value\n",
    "    lpix = int(wcs_drag.celestial.wcs_world2pix(l,b, 1)[0])\n",
    "    bpix = int(wcs_drag.celestial.wcs_world2pix(l,b, 1)[1])\n",
    "\n",
    "    gdsm_I = []\n",
    "    for f in tqdm(drag_freq/1e6):\n",
    "        gsm_temp = gsm.generate(f)\n",
    "        gdsm_I.append(gsm_temp[hp.ang2pix(512, l,b, lonlat=True)])\n",
    "\n",
    "    q = dragQ[:, bpix, lpix]/gdsm_I/jansk_to_K_drag[indexes]\n",
    "    u = dragU[:, bpix, lpix]/gdsm_I/jansk_to_K_drag[indexes]\n",
    "\n",
    "    return{'q':q, 'u':u, 'I':gdsm_I}\n",
    "\n",
    "def get_WMAP_los(c):\n",
    "    l = c.l.value\n",
    "    b = c.b.value\n",
    "    \n",
    "    I = np.asarray(gsm.generate(22800)[hp.ang2pix(512, l,b, lonlat=True)])\n",
    "    \n",
    "    q = WMAP_data['Q_POLARISATION'][hp.ang2pix(512, l,b, lonlat=True)]/1000/I\n",
    "    u = WMAP_data['U_POLARISATION'][hp.ang2pix(512, l,b, lonlat=True)]/1000/I\n",
    "    p = np.sqrt(q**2+u**2)\n",
    "    \n",
    "    return{'p':p, 'q':q, 'u':u, 'I':I}\n",
    "\n",
    "\n",
    "def get_planck_los(c):\n",
    "    l = c.l.value\n",
    "    b = c.b.value\n",
    "    gsm_2048 = hp.ud_grade(gsm.generate(30000), nside_out=2048)\n",
    "    I = np.asarray(gsm_2048[hp.ang2pix(2048, l,b, lonlat=True)])\n",
    "    \n",
    "    q = planck_data[hp.ang2pix(2048, l,b, lonlat=True)][0]/1000000/I\n",
    "    u = planck_data[hp.ang2pix(2048, l,b, lonlat=True)][1]/1000000/I\n",
    "    p = np.sqrt(q**2+u**2)\n",
    "    \n",
    "    return{'p':p, 'q':q, 'u':u, 'I':I}"
   ]
  },
  {
   "cell_type": "code",
   "execution_count": 10,
   "metadata": {},
   "outputs": [],
   "source": [
    "data_freq = np.concatenate((drag_freq, gmims_freq))"
   ]
  },
  {
   "cell_type": "code",
   "execution_count": 12,
   "metadata": {},
   "outputs": [
    {
     "name": "stdout",
     "output_type": "stream",
     "text": [
      "'/srv/nmohamme/notebooks/FRII_git/QU-Fitting_depol/QU_results/140_5_m6_pymultinest_0.7_may2' created\n"
     ]
    },
    {
     "name": "stderr",
     "output_type": "stream",
     "text": [
      "  0%|          | 0/246 [00:00<?, ?it/s]"
     ]
    },
    {
     "name": "stderr",
     "output_type": "stream",
     "text": [
      "100%|██████████| 246/246 [00:10<00:00, 22.61it/s]\n",
      "100%|██████████| 409/409 [00:17<00:00, 22.75it/s]\n"
     ]
    },
    {
     "ename": "TypeError",
     "evalue": "run_qufit() got an unexpected keyword argument 'isTribble'",
     "output_type": "error",
     "traceback": [
      "\u001b[0;31m---------------------------------------------------------------------------\u001b[0m",
      "\u001b[0;31mTypeError\u001b[0m                                 Traceback (most recent call last)",
      "Cell \u001b[0;32mIn[12], line 44\u001b[0m\n\u001b[1;32m     41\u001b[0m np\u001b[38;5;241m.\u001b[39msave(parent_dir\u001b[38;5;241m+\u001b[39m\u001b[38;5;124m'\u001b[39m\u001b[38;5;124m/spectra_files/\u001b[39m\u001b[38;5;124m'\u001b[39m\u001b[38;5;241m+\u001b[39mdirectory \u001b[38;5;241m+\u001b[39m\u001b[38;5;124m'\u001b[39m\u001b[38;5;124mfreqArr_\u001b[39m\u001b[38;5;124m'\u001b[39m \u001b[38;5;241m+\u001b[39m \u001b[38;5;28mstr\u001b[39m(\u001b[38;5;28mint\u001b[39m(c\u001b[38;5;241m.\u001b[39ml\u001b[38;5;241m.\u001b[39mvalue)) \u001b[38;5;241m+\u001b[39m \u001b[38;5;124m'\u001b[39m\u001b[38;5;124m_\u001b[39m\u001b[38;5;124m'\u001b[39m \u001b[38;5;241m+\u001b[39m \u001b[38;5;28mstr\u001b[39m(\u001b[38;5;28mint\u001b[39m(c\u001b[38;5;241m.\u001b[39mb\u001b[38;5;241m.\u001b[39mvalue)), data_freq)  \u001b[38;5;66;03m#saved for plotting in plotting_models.ipynb\u001b[39;00m\n\u001b[1;32m     43\u001b[0m qufit_args \u001b[38;5;241m=\u001b[39m [data_freq, q, u, dq, du, anchor_los[\u001b[38;5;124m'\u001b[39m\u001b[38;5;124mp\u001b[39m\u001b[38;5;124m'\u001b[39m], anchor_freq] \u001b[38;5;28;01mif\u001b[39;00m anchor \u001b[38;5;28;01melse\u001b[39;00m [data_freq, q, u, dq, du]\n\u001b[0;32m---> 44\u001b[0m qufit_result \u001b[38;5;241m=\u001b[39m RMtools_1D\u001b[38;5;241m.\u001b[39mdo_QUfit_1D_mnest\u001b[38;5;241m.\u001b[39mrun_qufit(qufit_args, modelNum\u001b[38;5;241m=\u001b[39mmodel_used, prefixOut\u001b[38;5;241m=\u001b[39mfn, polyOrd\u001b[38;5;241m=\u001b[39m\u001b[38;5;241m3\u001b[39m, isTribble\u001b[38;5;241m=\u001b[39manchor, noStokesI\u001b[38;5;241m=\u001b[39m\u001b[38;5;28;01mTrue\u001b[39;00m, sampler\u001b[38;5;241m=\u001b[39msampler_used)\n\u001b[1;32m     46\u001b[0m details \u001b[38;5;241m=\u001b[39m \u001b[38;5;124m'''\u001b[39m\u001b[38;5;124mGMIMS-HBN convolved to Dragons 2.4 degree beam. \u001b[39m\n\u001b[1;32m     47\u001b[0m \u001b[38;5;124m'''\u001b[39m\n\u001b[1;32m     48\u001b[0m \u001b[38;5;28;01mwith\u001b[39;00m \u001b[38;5;28mopen\u001b[39m(path\u001b[38;5;241m+\u001b[39m\u001b[38;5;124m'\u001b[39m\u001b[38;5;124m/details.txt\u001b[39m\u001b[38;5;124m'\u001b[39m, \u001b[38;5;124m'\u001b[39m\u001b[38;5;124mw\u001b[39m\u001b[38;5;124m'\u001b[39m) \u001b[38;5;28;01mas\u001b[39;00m f:\n",
      "\u001b[0;31mTypeError\u001b[0m: run_qufit() got an unexpected keyword argument 'isTribble'"
     ]
    }
   ],
   "source": [
    "#---- Copy the below block into 'plot_all_spectra.ipynb' to visualize these specific results, otherwise manually\n",
    "#---- enter the filename from the stores results in /QU_resuts/ \n",
    "#############################################################################################################################\n",
    "#--- Some LOS to pick\n",
    "clist = SkyCoord([130,136,140,134, 143.2,132, 150]*units.deg, [5.0,0,5,3.5, 7.6, 12, 20]*units.deg, frame='galactic')\n",
    "sampler_used = 'pymultinest' #reccomended sampling model\n",
    "model_used = 6 \n",
    "drag_beam_eff= 0.7 #Beam efficiency for Dragons\n",
    "note = f'may2' #Any notes you want to add to the directory name\n",
    "#############################################################################################################################\n",
    "anchor=False #If you want to anchor the fit to the WMAP/Planck\n",
    "anchor_type = 'Planck' #WMAP or Planck\n",
    "\n",
    "c = clist[2] # Set your LOS; you can instead loop over clist to do multiple LOS\n",
    "directory = str(int(c.l.value)) + '_' + str(int(c.b.value))+'_m'+str(model_used)+'_'+str(sampler_used)+'_'+str(drag_beam_eff)+'_'+str(note)\n",
    "path = parent_dir+directory\n",
    "fn = path +'/qufit_' + str(int(c.l.value)) + '_' + str(int(c.b.value))\n",
    "if os.path.exists(path):  # Check if directory exists\n",
    "    if os.path.isdir(path):  # Check if it's a directory\n",
    "        # Directory exists, so delete it\n",
    "        shutil.rmtree(path)\n",
    "        print(f\"Directory '{path}' deleted.\") \n",
    "    else:\n",
    "        print(f\"'{path}' exists but is not a directory.\")\n",
    "os.path.join(parent_dir, directory)\n",
    "print(f\"'{path}' created\")\n",
    "\n",
    "drag_los = get_drag_los(c)\n",
    "gmims_los = get_gmims_los(c)\n",
    "anchor_los, anchor_freq = (get_planck_los(c), 30e9) if anchor and anchor_type == 'Planck' else \\\n",
    "                          (get_WMAP_los(c), 22.8e9) if anchor and anchor_type == 'WMAP' else \\\n",
    "                          (None, None)\n",
    "\n",
    "q = np.concatenate((drag_los['q']/drag_beam_eff, gmims_los['q'])) #factor of 0.7 is approximating beam efficiency\n",
    "u = np.concatenate((drag_los['u']/drag_beam_eff, gmims_los['u']))\n",
    "p = np.sqrt(q**2+u**2)\n",
    "dq = p*0.1;du = p*0.1 #10% error is an estimate|\n",
    "\n",
    "np.save(parent_dir+'/spectra_files/'+directory + 'qArr_' + str(int(c.l.value)) + '_' + str(int(c.b.value)), q)\n",
    "np.save(parent_dir+'/spectra_files/'+directory +'uArr_' + str(int(c.l.value)) + '_' + str(int(c.b.value)), u)\n",
    "np.save(parent_dir+'/spectra_files/'+directory +'freqArr_' + str(int(c.l.value)) + '_' + str(int(c.b.value)), data_freq)  #saved for plotting in plotting_models.ipynb\n",
    "\n",
    "qufit_args = [data_freq, q, u, dq, du, anchor_los['p'], anchor_freq] if anchor else [data_freq, q, u, dq, du]\n",
    "qufit_result = RMtools_1D.do_QUfit_1D_mnest.run_qufit(qufit_args, modelNum=model_used, prefixOut=fn, polyOrd=3, isTribble=anchor, noStokesI=True, sampler=sampler_used)\n",
    "\n",
    "details = '''GMIMS-HBN convolved to Dragons 2.4 degree beam. \n",
    "'''\n",
    "with open(path+'/details.txt', 'w') as f:\n",
    "    f.write(details)"
   ]
  },
  {
   "cell_type": "code",
   "execution_count": null,
   "metadata": {},
   "outputs": [],
   "source": []
  }
 ],
 "metadata": {
  "kernelspec": {
   "display_name": "Python 3 (ipykernel)",
   "language": "python",
   "name": "python3"
  },
  "language_info": {
   "codemirror_mode": {
    "name": "ipython",
    "version": 3
   },
   "file_extension": ".py",
   "mimetype": "text/x-python",
   "name": "python",
   "nbconvert_exporter": "python",
   "pygments_lexer": "ipython3",
   "version": "3.11.7"
  }
 },
 "nbformat": 4,
 "nbformat_minor": 2
}
